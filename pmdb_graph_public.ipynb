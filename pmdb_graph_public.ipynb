{
 "cells": [
  {
   "cell_type": "markdown",
   "metadata": {},
   "source": [
    "## Data Setup"
   ]
  },
  {
   "cell_type": "code",
   "execution_count": null,
   "metadata": {},
   "outputs": [],
   "source": [
    "#!pip install panel hvplot gdown datashader jupyter_bokeh\n",
    "## Run the above if you are not using the Saturn Cloud Environment\n",
    "import os\n",
    "import panel as pn \n",
    "import pandas as pd \n",
    "import holoviews as hv \n",
    "import hvplot.pandas\n",
    "import gdown\n",
    "\n",
    "url = \"https://drive.google.com/uc?id=1BC-gHxPwg5vniOfYYAZMdnIRbQMhjJZx\" # Downloading the PMDB Graph Network dataframe\n",
    "graph_file = \"PMDB_graph_data.pq\"\n",
    "if not os.path.exists(graph_file):\n",
    "    gdown.download(url, graph_file, quiet=True) # This file is ~ 1 GB, so it can take some time to download."
   ]
  },
  {
   "cell_type": "code",
   "execution_count": null,
   "metadata": {},
   "outputs": [],
   "source": [
    "df = pd.read_parquet(graph_file)"
   ]
  },
  {
   "cell_type": "markdown",
   "metadata": {},
   "source": [
    "## Level 1: Overview Graph"
   ]
  },
  {
   "cell_type": "code",
   "execution_count": null,
   "metadata": {},
   "outputs": [],
   "source": [
    "# Set up the overview network graph for viewing\n",
    "all_graph1 = df.hvplot.scatter(x='x',y='y',\n",
    "                               rasterize=True, \n",
    "                               width=1000, height=1000, \n",
    "                               color='bray_all', \n",
    "                               colorbar=True,\n",
    "                                )\n",
    "all_graph2 = df.query('clu_deg_sum>2').hvplot.scatter(x='x',y='y',\n",
    "                                rasterize=False, \n",
    "                                width=1000, height=1000, \n",
    "                                color='#E50000', \n",
    "                                hover_cols='full_id',\n",
    "                                )"
   ]
  },
  {
   "cell_type": "code",
   "execution_count": null,
   "metadata": {},
   "outputs": [],
   "source": [
    "all_graph1*all_graph2"
   ]
  },
  {
   "cell_type": "code",
   "execution_count": null,
   "metadata": {},
   "outputs": [],
   "source": [
    "len(df) # See the length of the dataframe"
   ]
  },
  {
   "cell_type": "markdown",
   "metadata": {},
   "source": [
    "**Because of graph size (10+ million points), rastering/zooming the graph can take some time. Due to this, we recommend selecting a graph area manually, and rerendering this way.**"
   ]
  },
  {
   "cell_type": "markdown",
   "metadata": {},
   "source": [
    "## Level 2: Zoom Into Graph Area"
   ]
  },
  {
   "cell_type": "code",
   "execution_count": null,
   "metadata": {},
   "outputs": [],
   "source": [
    "#SELECT GRAPH SECTION\n",
    "x_min = 4\n",
    "x_max = 9\n",
    "y_min = 8\n",
    "y_max = 12\n",
    "df_subset = df.query(f'{x_min}<x<{x_max} and {y_min}<y<{y_max}')"
   ]
  },
  {
   "cell_type": "code",
   "execution_count": null,
   "metadata": {},
   "outputs": [],
   "source": [
    "len(df_subset)"
   ]
  },
  {
   "cell_type": "code",
   "execution_count": null,
   "metadata": {},
   "outputs": [],
   "source": [
    "l2_graph1 = df_subset.hvplot.scatter(x='x',y='y',\n",
    "                                     rasterize=True, \n",
    "                                     dynamic=True, \n",
    "                                     width=1000,height=1000, \n",
    "                                     color='bray_all', \n",
    "                                     colorbar=True,\n",
    "                                    )\n",
    "l2_graph2 = df_subset.query('clu_deg_sum>2').hvplot.scatter(x='x',y='y',\n",
    "                                    rasterize=False, \n",
    "                                    width=1000,height=1000, \n",
    "                                    color='#E50000', \n",
    "                                    hover_cols='full_id',\n",
    "                                    )"
   ]
  },
  {
   "cell_type": "code",
   "execution_count": null,
   "metadata": {},
   "outputs": [],
   "source": [
    "l2_graph1*l2_graph2"
   ]
  },
  {
   "cell_type": "markdown",
   "metadata": {},
   "source": [
    "## Level 3: Filter Genes of Interest"
   ]
  },
  {
   "cell_type": "markdown",
   "metadata": {},
   "source": [
    "**One you have selected an area of genes, we recommend manually analyzing genes of interest and looking them up in the PMDB Database!**"
   ]
  },
  {
   "cell_type": "markdown",
   "metadata": {},
   "source": [
    "**Using pandas search terms, it is fairly simple to look for genes with**\n",
    "* **Predicted annotations of interest**\n",
    "* **High meta-omic observance similarity (bray curtis or jaccard) to known plastizymes**"
   ]
  },
  {
   "cell_type": "code",
   "execution_count": null,
   "metadata": {},
   "outputs": [],
   "source": [
    "#SELECT SUBGRAPH SECTION\n",
    "x2_min = 7.65\n",
    "x2_max = 8.36\n",
    "y2_min = 10.13\n",
    "y2_max = 11.56\n",
    "df_filter = df.query(f'{x2_min}<x<{x2_max} and {y2_min}<y<{y2_max}')"
   ]
  },
  {
   "cell_type": "code",
   "execution_count": null,
   "metadata": {},
   "outputs": [],
   "source": [
    "# An example search\n",
    "(df_filter\n",
    ".query(\"product.str.contains('oxidase')\")\n",
    ".sort_values(\"bray_all\", ascending=False)\n",
    ")"
   ]
  },
  {
   "cell_type": "markdown",
   "metadata": {},
   "source": [
    "**The ref_90 or full_id columns can be used for searches within the PMDB Database.**\n",
    "\n",
    "**If you would like to manually look through the annotations on the graph also, we recommend doing this with a smaller subset of the protein network graph.**"
   ]
  },
  {
   "cell_type": "code",
   "execution_count": null,
   "metadata": {},
   "outputs": [],
   "source": [
    "l3_graph1 = df_filter.hvplot.scatter(x='x',y='y',\n",
    "                        rasterize=False, # Turning off raster mode is required to view the annotations \n",
    "                        width=1000, height=1000, \n",
    "                        color='bray_all',\n",
    "                        hover_cols='full_id', # Adding this line turns on the annotation in the tooltip. \n",
    "                        colorbar=True,\n",
    "                            )\n",
    "l3_graph2 = df_filter.query('clu_deg_sum>2').hvplot.scatter(x='x',y='y',\n",
    "                        rasterize=False, \n",
    "                        width=1000, height=1000, \n",
    "                        color='#E50000', \n",
    "                        hover_cols='full_id',\n",
    "                            )"
   ]
  },
  {
   "cell_type": "code",
   "execution_count": null,
   "metadata": {},
   "outputs": [],
   "source": [
    "l3_graph1*l3_graph2"
   ]
  }
 ],
 "metadata": {
  "language_info": {
   "name": "python"
  }
 },
 "nbformat": 4,
 "nbformat_minor": 2
}
